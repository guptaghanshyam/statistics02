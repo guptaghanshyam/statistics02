{
 "cells": [
  {
   "cell_type": "code",
   "execution_count": null,
   "metadata": {},
   "outputs": [],
   "source": []
  },
  {
   "attachments": {},
   "cell_type": "markdown",
   "metadata": {},
   "source": [
    "Q1. What are the three measures of central tendency?"
   ]
  },
  {
   "attachments": {},
   "cell_type": "markdown",
   "metadata": {},
   "source": [
    "Ans: the three measures of central tendency are mean,median and mode"
   ]
  },
  {
   "attachments": {},
   "cell_type": "markdown",
   "metadata": {},
   "source": [
    "Q2. What is the difference between the mean, median, and mode? How are they used to measure the\n",
    "central tendency of a dataset?"
   ]
  },
  {
   "attachments": {},
   "cell_type": "markdown",
   "metadata": {},
   "source": [
    "Ans:\n",
    "mean: it is calculated by summarising all the values in the dataset and thendividing by the total numbers of values.\n",
    "\n",
    "median :the median is middle value of the data set when arrenged in the assending order or desending order.if the dataset is odd values, the median is the middle one but if it is even value it will we the average of the two middle value\n",
    "\n",
    "mode: The mode is the value or values that appear most frequently in a datasetA dataset can have one mode or multiple mode."
   ]
  },
  {
   "attachments": {},
   "cell_type": "markdown",
   "metadata": {},
   "source": [
    "Q3. Measure the three measures of central tendency for the given height data:\n",
    "[178,177,176,177,178.2,178,175,179,180,175,178.9,176.2,177,172.5,178,176.5]"
   ]
  },
  {
   "cell_type": "code",
   "execution_count": 11,
   "metadata": {},
   "outputs": [
    {
     "data": {
      "text/plain": [
       "177.01875"
      ]
     },
     "execution_count": 11,
     "metadata": {},
     "output_type": "execute_result"
    }
   ],
   "source": [
    "import numpy as np\n",
    "\n",
    "data=[178,177,176,177,178.2,178,175,179,180,175,178.9,176.2,177,172.5,178,176.5]\n",
    "\n",
    "np.mean(data)\n"
   ]
  },
  {
   "cell_type": "code",
   "execution_count": 12,
   "metadata": {},
   "outputs": [
    {
     "data": {
      "text/plain": [
       "177.0"
      ]
     },
     "execution_count": 12,
     "metadata": {},
     "output_type": "execute_result"
    }
   ],
   "source": [
    "np.median(data)"
   ]
  },
  {
   "cell_type": "code",
   "execution_count": 16,
   "metadata": {},
   "outputs": [
    {
     "name": "stderr",
     "output_type": "stream",
     "text": [
      "C:\\Users\\KISHAN\\AppData\\Local\\Temp\\ipykernel_55680\\4250874983.py:3: FutureWarning: Unlike other reduction functions (e.g. `skew`, `kurtosis`), the default behavior of `mode` typically preserves the axis it acts along. In SciPy 1.11.0, this behavior will change: the default value of `keepdims` will become False, the `axis` over which the statistic is taken will be eliminated, and the value None will no longer be accepted. Set `keepdims` to True or False to avoid this warning.\n",
      "  stats.mode(data)\n"
     ]
    },
    {
     "data": {
      "text/plain": [
       "ModeResult(mode=array([177.]), count=array([3]))"
      ]
     },
     "execution_count": 16,
     "metadata": {},
     "output_type": "execute_result"
    }
   ],
   "source": [
    "from scipy import stats\n",
    "\n",
    "stats.mode(data)"
   ]
  },
  {
   "attachments": {},
   "cell_type": "markdown",
   "metadata": {},
   "source": [
    "Q4. Find the standard deviation for the given data:\n",
    "[178,177,176,177,178.2,178,175,179,180,175,178.9,176.2,177,172.5,178,176.5]"
   ]
  },
  {
   "cell_type": "code",
   "execution_count": 17,
   "metadata": {},
   "outputs": [],
   "source": [
    "data2=[[178,177,176,177,178.2,178,175,179,180,175,178.9,176.2,177,172.5,178,176.5]]"
   ]
  },
  {
   "cell_type": "code",
   "execution_count": 18,
   "metadata": {},
   "outputs": [
    {
     "data": {
      "text/plain": [
       "1.7885814036548633"
      ]
     },
     "execution_count": 18,
     "metadata": {},
     "output_type": "execute_result"
    }
   ],
   "source": [
    "np.std(data2)"
   ]
  },
  {
   "attachments": {},
   "cell_type": "markdown",
   "metadata": {},
   "source": [
    "Q5. How are measures of dispersion such as range, variance, and standard deviation used to describe\n",
    "the spread of a dataset? Provide an example."
   ]
  },
  {
   "attachments": {},
   "cell_type": "markdown",
   "metadata": {},
   "source": [
    "Range: The range is the simplest measure of dispersion and represents the difference between the maximum and minimum values in a dataset. It provides a rough estimate of the spread, but it does not take into account the distribution of values."
   ]
  },
  {
   "cell_type": "code",
   "execution_count": 23,
   "metadata": {},
   "outputs": [
    {
     "name": "stdout",
     "output_type": "stream",
     "text": [
      "Range: 10\n"
     ]
    }
   ],
   "source": [
    "data = [10, 15, 12, 18, 20, 14, 16, 11, 19, 13]\n",
    "data_range = max(data) - min(data)\n",
    "print(\"Range:\", data_range)"
   ]
  },
  {
   "attachments": {},
   "cell_type": "markdown",
   "metadata": {},
   "source": [
    "Variance: The variance measures how much the values in a dataset deviate from the mean. It calculates the average of the squared differences between each value and the mean."
   ]
  },
  {
   "cell_type": "code",
   "execution_count": 24,
   "metadata": {},
   "outputs": [
    {
     "name": "stdout",
     "output_type": "stream",
     "text": [
      "Variance: 11.733333333333333\n"
     ]
    }
   ],
   "source": [
    "import statistics\n",
    "\n",
    "data = [10, 15, 12, 18, 20, 14, 16, 11, 19, 13]\n",
    "data_variance = statistics.variance(data)\n",
    "print(\"Variance:\", data_variance)\n"
   ]
  },
  {
   "attachments": {},
   "cell_type": "markdown",
   "metadata": {},
   "source": [
    "Standard Deviation: The standard deviation is the square root of the variance and provides a measure of dispersion in the original unit of the data. It quantifies the average amount by which each value in the dataset deviates from the mean."
   ]
  },
  {
   "cell_type": "code",
   "execution_count": 25,
   "metadata": {},
   "outputs": [
    {
     "name": "stdout",
     "output_type": "stream",
     "text": [
      "Standard Deviation: 3.4253953543107007\n"
     ]
    }
   ],
   "source": [
    "import statistics\n",
    "\n",
    "data = [10, 15, 12, 18, 20, 14, 16, 11, 19, 13]\n",
    "data_std_dev = statistics.stdev(data)\n",
    "print(\"Standard Deviation:\", data_std_dev)\n"
   ]
  },
  {
   "attachments": {},
   "cell_type": "markdown",
   "metadata": {},
   "source": [
    "Q6. What is a Venn diagram?"
   ]
  },
  {
   "attachments": {},
   "cell_type": "markdown",
   "metadata": {},
   "source": [
    "A Venn diagram is a graphical representation used to depict the relationships and similarities between different sets of element"
   ]
  },
  {
   "attachments": {},
   "cell_type": "markdown",
   "metadata": {},
   "source": [
    "Q7. For the two given sets A = (2,3,4,5,6,7) & B = (0,2,6,8,10). Find:\n",
    "(i) A B\n",
    "(ii) A ⋃ B"
   ]
  },
  {
   "attachments": {},
   "cell_type": "markdown",
   "metadata": {},
   "source": [
    "1)=(2,6)\n",
    "\n",
    "2)=(0,2,3,4,5,6,7,8,9,10)"
   ]
  },
  {
   "attachments": {},
   "cell_type": "markdown",
   "metadata": {},
   "source": [
    "Q8. What do you understand about skewness in data?\n"
   ]
  },
  {
   "attachments": {},
   "cell_type": "markdown",
   "metadata": {},
   "source": [
    "Skewness in data refers to the measure of the asymmetry or lack of symmetry in the distribution of values. It indicates the extent to which a dataset deviates from a symmetrical or bell-shaped distribution.\n",
    "\n",
    "there are three possible types of skewness:\n",
    "1)positive\n",
    "\n",
    "2)negative\n",
    "\n",
    "3)zero"
   ]
  },
  {
   "attachments": {},
   "cell_type": "markdown",
   "metadata": {},
   "source": [
    "Q9. If a data is right skewed then what will be the position of median with respect to mean?\n"
   ]
  },
  {
   "attachments": {},
   "cell_type": "markdown",
   "metadata": {},
   "source": [
    "If a dataset is right-skewed, the median will typically be less than the mean."
   ]
  },
  {
   "attachments": {},
   "cell_type": "markdown",
   "metadata": {},
   "source": [
    "Q10. Explain the difference between covariance and correlation. How are these measures used in\n",
    "statistical analysis?"
   ]
  },
  {
   "attachments": {},
   "cell_type": "markdown",
   "metadata": {},
   "source": [
    "\n",
    "Covariance measures how two variables vary together, indicating the direction and strength of their linear relationship. It can be positive or negative but does not provide information about the magnitude of the relationship. Correlation, on the other hand, is a standardized version of covariance that measures the strength and direction of the linear relationship. It always ranges between -1 and 1 and is not affected by the scale or units of the variables. Covariance and correlation are used to assess relationships, select variables, manage portfolios, identify multicollinearity, and aid in data analysis and decision-making.\n"
   ]
  },
  {
   "attachments": {},
   "cell_type": "markdown",
   "metadata": {},
   "source": [
    "Q11. What is the formula for calculating the sample mean? Provide an example calculation for a\n",
    "dataset."
   ]
  },
  {
   "attachments": {},
   "cell_type": "markdown",
   "metadata": {},
   "source": [
    "the formula for sample mean is \n",
    "\n",
    "xbar =(x1 + x2 + x3 +.....+xn)/n\n",
    "\n",
    "dataset :[2,4,6,8,10]\n",
    "\n",
    "xbar=(2 + 4 + 6 + 8 + 10)/5\n",
    "\n",
    "= 30 / 5\n",
    "\n",
    "=6"
   ]
  },
  {
   "attachments": {},
   "cell_type": "markdown",
   "metadata": {},
   "source": [
    "Q12. For a normal distribution data what is the relationship between its measure of central tendency?"
   ]
  },
  {
   "attachments": {},
   "cell_type": "markdown",
   "metadata": {},
   "source": [
    "For a normal distribution, the measure of central tendency is the same for all three commonly used measures: mean, median, and mode.\n",
    "\n",
    "mean: it is calculated by summarising all the values in the dataset and thendividing by the total numbers of values.\n",
    "\n",
    "median :the median is middle value of the data set when arrenged in the assending order or desending order.if the dataset is odd values, the median is the middle one but if it is even value it will we the average of the two middle value\n",
    "\n",
    "mode: The mode is the value or values that appear most frequently in a datasetA dataset can have one mode or multiple mode."
   ]
  },
  {
   "attachments": {},
   "cell_type": "markdown",
   "metadata": {},
   "source": [
    "Q13. How is covariance different from correlation?"
   ]
  },
  {
   "attachments": {},
   "cell_type": "markdown",
   "metadata": {},
   "source": [
    " covariance measures the direction and strength of the linear relationship between variables but is influenced by scale and does not have a standardized interpretation of strength. Correlation, on the other hand, provides a standardized measure of the strength and direction of the linear relationship that is not affected by scale or units. Correlation allows for comparisons between different pairs of variables and provides a clearer interpretation of strength."
   ]
  },
  {
   "attachments": {},
   "cell_type": "markdown",
   "metadata": {},
   "source": [
    "Q14. How do outliers affect measures of central tendency and dispersion? Provide an example."
   ]
  },
  {
   "attachments": {},
   "cell_type": "markdown",
   "metadata": {},
   "source": [
    "\n",
    "Outliers can have a significant impact on measures of central tendency and dispersion. Outliers can distort the mean, range, variance, and standard deviation, while the median and mode are less affected. \n",
    "\n",
    "For example, in a dataset of exam scores [78, 84, 92, 85, 88, 76, 95, 91, 83, 100, 90, 79, 81, 200],\n",
    " the outlier 200 greatly affects the mean, range, variance, and standard deviation, while the median and mode remain unchanged. Outliers can lead to misleading interpretations of the data."
   ]
  },
  {
   "attachments": {},
   "cell_type": "markdown",
   "metadata": {},
   "source": []
  }
 ],
 "metadata": {
  "kernelspec": {
   "display_name": "base",
   "language": "python",
   "name": "python3"
  },
  "language_info": {
   "codemirror_mode": {
    "name": "ipython",
    "version": 3
   },
   "file_extension": ".py",
   "mimetype": "text/x-python",
   "name": "python",
   "nbconvert_exporter": "python",
   "pygments_lexer": "ipython3",
   "version": "3.10.9"
  },
  "orig_nbformat": 4
 },
 "nbformat": 4,
 "nbformat_minor": 2
}
